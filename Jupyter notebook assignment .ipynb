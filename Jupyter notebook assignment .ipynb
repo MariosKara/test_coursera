{
    "cells": [
        {
            "cell_type": "markdown",
            "metadata": {
                "collapsed": true
            },
            "source": "# My Jupyter Notebook on IBM Watson Studio"
        },
        {
            "cell_type": "markdown",
            "metadata": {},
            "source": "__Marios Karagiannopoulos__\n\nData Analyst"
        },
        {
            "cell_type": "code",
            "execution_count": null,
            "metadata": {},
            "outputs": [
                {
                    "name": "stdout",
                    "output_type": "stream",
                    "text": "Hey there!We are going to make some temperature conversions \nPlease type a temperature:0\nPlease type the scale of temperature(C or F or K):k\nyou typed:  K\n"
                }
            ],
            "source": "print(\"Hey there!We are going to make some temperature conversions \")\n\ndef temp_converter(a,b):\n    \n    #####GETTING THE TEMPERATURE AND SCALE#######\n      \n    if b=='F':\n        celcius = round((A-32)*(5/9),2)\n        kelvin = round((A-32)*(5/9) + 273.15, 2)\n        print(a,b, \" is \",celcius, \"C or \", kelvin, \"K\")\n    elif b!='C':\n        fahrenheit = round((a*9/5)+32,2)\n        kelvin = round(a + 273.15, 2)\n        print(a,b,\" is \",fahrenheit, \"F or \", kelvin, \"K\")\n    else:\n        fahrenheit = round((a - 273.15)*9/5,2)\n        celcius = round(a - 273.15, 2)\n        print(a,b,\" is \",fahrenheit, \"F or \", celcius, \"C\")\n\na=input(\"Please type a temperature:\")\n    \nwhile(a.isnumeric() is False):\n    a=input(\"Wrong input, please type a number. Please type a temperature:\")\n    \nb=input(\"Please type the scale of temperature(C or F or K):\").upper()\nprint(\"you typed: \",b)\nwhile(True):\n    if b!='C' or b!='F' or b!='K':\n    b=input(\"Wrong input. Please type the scale of temperature: C or F or K:\").upper()\n        \ntemp_converter(a,b)\n"
        },
        {
            "cell_type": "code",
            "execution_count": null,
            "metadata": {},
            "outputs": [],
            "source": ""
        }
    ],
    "metadata": {
        "kernelspec": {
            "display_name": "Python 3.7",
            "language": "python",
            "name": "python3"
        },
        "language_info": {
            "codemirror_mode": {
                "name": "ipython",
                "version": 3
            },
            "file_extension": ".py",
            "mimetype": "text/x-python",
            "name": "python",
            "nbconvert_exporter": "python",
            "pygments_lexer": "ipython3",
            "version": "3.7.10"
        }
    },
    "nbformat": 4,
    "nbformat_minor": 1
}